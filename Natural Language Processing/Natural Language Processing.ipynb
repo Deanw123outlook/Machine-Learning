{
 "cells": [
  {
   "cell_type": "markdown",
   "metadata": {},
   "source": [
    "# Natural Language Processing \n",
    "\n",
    "Natural language processing (NLP) is a subfield of Artificial Intelligence (AI). This is a widely used technology for personal assistants that are used in various business fields/areas. This technology works on the speech provided by the user, breaks it down for proper understanding and processes accordingly. This is a very recent and effective approach due to which it has a really high demand in today’s market. \n",
    "\n",
    "Natural Language Processing is an upcoming field where already many transitions such as compatibility with smart devices, interactive talks with a human have been made possible. Knowledge representation, logical reasoning, and constraint satisfaction were the emphasis of AI applications in NLP. Here first it was applied to semantics and later to the grammar. In the last decade, a significant change in NLP research has resulted in the widespread use of statistical approaches such as machine learning and data mining on a massive scale. The need for automation is never ending courtesy of the amount of work required to be done these days. NLP is a very favourable, but aspect when it comes to automated applications. The applications of NLP have led it to be one of the most sought-after methods of implementing machine learning. \n",
    "\n",
    "Natural Language Processing (NLP) is a field that combines computer science, linguistics, and machine learning to study how computers and humans communicate in natural language. The goal of NLP is for computers to be able to interpret and generate human language.This not only improves the efficiency of work done by humans but also helps in interacting with the machine. NLP bridges the gap of interaction between humans and electronic devices.\n",
    "\n",
    "# NLP Python\n",
    "\n",
    "###### Regular Expressions \n",
    "\n",
    "These can include strings with a special syntax & allows us to match patterns in other strings!\n",
    "Common applications of Regular Expressions (RE) include finding web links in a document, parse email addresses & removing/replacing unwanted charchaters which is a skill required greatly within data cleaning tasks.\n",
    "\n",
    "###### Tokenization\n",
    "\n",
    "Turning strings or document into tokens (smaller chunks). This is one task/step when preparing text for Natural Language Processing. Can create own rules catered to specific domain prolems (REs). Examplses can include breaking out words/sentences, seperating punctuation & one real world example would be seperating all hashtags in a tweet.\n",
    "Why do we tokenize text/speech/language ? It is easier to map part of speech, enables common word matches (giving insight into texts/documents) & enables us to remove unwanted tokens."
   ]
  },
  {
   "cell_type": "raw",
   "metadata": {},
   "source": [
    "import nltk\n",
    "nltk.download('punkt')"
   ]
  },
  {
   "cell_type": "raw",
   "metadata": {},
   "source": [
    "import nltk\n",
    "nltk.download('stopwords')"
   ]
  },
  {
   "cell_type": "raw",
   "metadata": {},
   "source": [
    "import nltk\n",
    "nltk.download('wordnet')"
   ]
  },
  {
   "cell_type": "markdown",
   "metadata": {},
   "source": [
    "###### NLTK library imports"
   ]
  },
  {
   "cell_type": "code",
   "execution_count": 85,
   "metadata": {},
   "outputs": [],
   "source": [
    "#import regex library\n",
    "import re\n",
    "#import nltk library (natural language toolkit)\n",
    "from nltk.tokenize import regexp_tokenize\n",
    "from nltk.tokenize import word_tokenize\n",
    "from nltk.tokenize import sent_tokenize\n",
    "from collections import Counter \n",
    "#import visualiztion library\n",
    "import matplotlib.pyplot as plt"
   ]
  },
  {
   "cell_type": "markdown",
   "metadata": {},
   "source": [
    "NOTE\n",
    "\n",
    "Natural Language Processing (NLP) is divided into  three different parts:\n",
    "\n",
    "Speech Recognition — The translation of spoken language into text.\n",
    "\n",
    "Natural Language Understanding (NLU)  — The computer’s ability to understand what we say.\n",
    "\n",
    "Natural Language Generation  (NLG) — The generation of natural language by a computer.\n",
    "NLU and NLG are the key aspects depicting the working of NLP devices. These 2 aspects are very different from each other and are achieved using different methods."
   ]
  },
  {
   "cell_type": "markdown",
   "metadata": {},
   "source": [
    "###### Articles/text for NLP analysis"
   ]
  },
  {
   "cell_type": "code",
   "execution_count": 2,
   "metadata": {},
   "outputs": [],
   "source": [
    "#import news articles/strings\n",
    "News_articleA = \" HONG KONG—Hong Kong’s chief executive tried to ease U.S. tech titans’ concerns about proposed changes to data-protection laws, saying new rules are needed to stop the malicious posting of people’s personal information online but that the government would listen to the companies. The Wall Street Journal on Monday reported that an industry group representing Facebook Inc., Twitter Inc., Alphabet Inc.’s Google and others sent a private letter June 25 to Hong Kong’s privacy commissioner for personal data outlining members’ worries about the planned rules to combat doxing. Doxing is a term applied to the sharing of individuals’ information online so they can be harassed, a practice that was common during 2019 protests in the city.\"\n",
    "News_articleB = \" The same number of days into the second wave in early 2021, despite similar infection levels, hospitalisations were more than double the current numbers. The daily number of COVID-related deaths was around 10 times higher. Health Secretary Sajid Javid told Sky News: What we are seeing is with rising case numbers - and yesterday I said we could see a doubling of case numbers by the time we get to 19 July - we are not seeing a corresponding increase in hospitalisations and death numbers. Even if a much smaller percentage of infections result in severe illness or death, with high enough case numbers this could still put the NHS under considerable pressure in some areas of the country.In England, case rates are currently highest in the North East and North West, where some areas have more than 600 daily cases per 100,000 people.\""
   ]
  },
  {
   "cell_type": "code",
   "execution_count": 69,
   "metadata": {},
   "outputs": [
    {
     "name": "stdout",
     "output_type": "stream",
     "text": [
      "News Article A \n",
      "\n",
      " HONG KONG—Hong Kong’s chief executive tried to ease U.S. tech titans’ concerns about proposed changes to data-protection laws, saying new rules are needed to stop the malicious posting of people’s personal information online but that the government would listen to the companies. The Wall Street Journal on Monday reported that an industry group representing Facebook Inc., Twitter Inc., Alphabet Inc.’s Google and others sent a private letter June 25 to Hong Kong’s privacy commissioner for personal data outlining members’ worries about the planned rules to combat doxing. Doxing is a term applied to the sharing of individuals’ information online so they can be harassed, a practice that was common during 2019 protests in the city.\n",
      " \n",
      "Number of words in Article : 736\n"
     ]
    }
   ],
   "source": [
    "print('News Article A ')\n",
    "print('')\n",
    "print(News_articleA)\n",
    "print(' ')\n",
    "print('Number of words in Article :',len(News_articleA))"
   ]
  },
  {
   "cell_type": "code",
   "execution_count": 70,
   "metadata": {},
   "outputs": [
    {
     "name": "stdout",
     "output_type": "stream",
     "text": [
      "News Article B \n",
      "\n",
      " The same number of days into the second wave in early 2021, despite similar infection levels, hospitalisations were more than double the current numbers. The daily number of COVID-related deaths was around 10 times higher. Health Secretary Sajid Javid told Sky News: What we are seeing is with rising case numbers - and yesterday I said we could see a doubling of case numbers by the time we get to 19 July - we are not seeing a corresponding increase in hospitalisations and death numbers. Even if a much smaller percentage of infections result in severe illness or death, with high enough case numbers this could still put the NHS under considerable pressure in some areas of the country.In England, case rates are currently highest in the North East and North West, where some areas have more than 600 daily cases per 100,000 people.\n",
      " \n",
      "Number of words in Article : 837\n"
     ]
    }
   ],
   "source": [
    "print('News Article B ')\n",
    "print('')\n",
    "print(News_articleB)\n",
    "print(' ')\n",
    "print('Number of words in Article :',len(News_articleB))"
   ]
  },
  {
   "cell_type": "code",
   "execution_count": 5,
   "metadata": {},
   "outputs": [],
   "source": [
    "News_articleC = \"he House of Commons leader treated fellow MPs to his interpretation of the New Order classic from Italia 90 as football fever swept the nation. There was laughter in the chamber as Mr Rees-Mogg drawled his way through the lyrics - including assuring Speaker Lindsay Hoyle that we ain't no hooligans. However, the Old Etonian did then balance his pop culture references by quoting Restoration literary critic John Dryden and Roman poet Virgil. Mr Rees-Mogg said: Everyone, I think, is rejoicing at the football success and I think the line to take is from Mr Barnes.You've got to hold and give but do it at the right time. (SKY NEWS) You can be slow or fast but you must get to the line. Can I reassure you, Mr Speaker, that we ain't no hooligans, this ain't a football song. Three Lions on my chest, I know we can't go wrong. Or as another John put it, John Dryden, for they can conquer who believe they can. I think for the record that Dryden was translating Virgil in those comments. He added: It is indeed the excellent leadership of Mr Southgate which led to such a good triumph yesterday against Denmark, and lets hope for the same on Sunday. Shadow Commons leader Thangam Debbonaire swiped that Boris Johnson should spend some time studying at the Gareth Southgate school of leadership.Ms Debbonaire added: In contrast to the Prime Minister, Gareth Southgate and the England team value hard work, discipline, and preparation. The British people seem to appreciate those qualities, so for the sake of our country and the wonderful people who live and work here, I hope the Prime Minister can spend some time over the next few days studying at the Gareth Southgate school of leadership. Other MPs made attempts to reference Football's Coming Home – the David Baddiel, Frank Skinner and Lightning Seeds classic which has become ubiquitous during England's bid for glory.  Earlier, Labour deputy leader Angela Rayner – when questioning Cabinet Office minister Michael Gove – said: Indeed football is coming home, but I also think the chickens are coming home to roost for this Government.\""
   ]
  },
  {
   "cell_type": "code",
   "execution_count": 71,
   "metadata": {},
   "outputs": [
    {
     "name": "stdout",
     "output_type": "stream",
     "text": [
      "News Article C \n",
      "\n",
      "he House of Commons leader treated fellow MPs to his interpretation of the New Order classic from Italia 90 as football fever swept the nation. There was laughter in the chamber as Mr Rees-Mogg drawled his way through the lyrics - including assuring Speaker Lindsay Hoyle that we ain't no hooligans. However, the Old Etonian did then balance his pop culture references by quoting Restoration literary critic John Dryden and Roman poet Virgil. Mr Rees-Mogg said: Everyone, I think, is rejoicing at the football success and I think the line to take is from Mr Barnes.You've got to hold and give but do it at the right time. (SKY NEWS) You can be slow or fast but you must get to the line. Can I reassure you, Mr Speaker, that we ain't no hooligans, this ain't a football song. Three Lions on my chest, I know we can't go wrong. Or as another John put it, John Dryden, for they can conquer who believe they can. I think for the record that Dryden was translating Virgil in those comments. He added: It is indeed the excellent leadership of Mr Southgate which led to such a good triumph yesterday against Denmark, and lets hope for the same on Sunday. Shadow Commons leader Thangam Debbonaire swiped that Boris Johnson should spend some time studying at the Gareth Southgate school of leadership.Ms Debbonaire added: In contrast to the Prime Minister, Gareth Southgate and the England team value hard work, discipline, and preparation. The British people seem to appreciate those qualities, so for the sake of our country and the wonderful people who live and work here, I hope the Prime Minister can spend some time over the next few days studying at the Gareth Southgate school of leadership. Other MPs made attempts to reference Football's Coming Home – the David Baddiel, Frank Skinner and Lightning Seeds classic which has become ubiquitous during England's bid for glory.  Earlier, Labour deputy leader Angela Rayner – when questioning Cabinet Office minister Michael Gove – said: Indeed football is coming home, but I also think the chickens are coming home to roost for this Government.\n",
      " \n",
      "Number of words in Article : 2090\n"
     ]
    }
   ],
   "source": [
    "print('News Article C ')\n",
    "print('')\n",
    "print(News_articleC)\n",
    "print(' ')\n",
    "print('Number of words in Article :',len(News_articleC))"
   ]
  },
  {
   "cell_type": "markdown",
   "metadata": {},
   "source": [
    "# REGULAR EXPRESSIONS\n",
    "Common Regex Patterns\n",
    "- \\w+    = word\n",
    "- \\d   = digit\n",
    "- \\s   = space\n",
    "-  *   = wildcard\n",
    "- +or*   = greedy-match\n",
    "- \\s   = not space\n",
    "- [a-z]   = lower case group"
   ]
  },
  {
   "cell_type": "markdown",
   "metadata": {},
   "source": [
    "###### re.split - split a string on regex"
   ]
  },
  {
   "cell_type": "code",
   "execution_count": 18,
   "metadata": {},
   "outputs": [
    {
     "name": "stdout",
     "output_type": "stream",
     "text": [
      "Article-A\n",
      "[' HONG KONG—Hong Kong’s chief executive tried to ease U', 'S', ' tech titans’ concerns about proposed changes to data-protection laws', ' saying new rules are needed to stop the malicious posting of people’s personal information online but that the government would listen to the companies', ' The Wall Street Journal on Monday reported that an industry group representing Facebook Inc', '', ' Twitter Inc', '', ' Alphabet Inc', '’s Google and others sent a private letter June 25 to Hong Kong’s privacy commissioner for personal data outlining members’ worries about the planned rules to combat doxing', ' Doxing is a term applied to the sharing of individuals’ information online so they can be harassed', ' a practice that was common during 2019 protests in the city', '']\n",
      " \n",
      "Article-B\n",
      "[' The same number of days into the second wave in early 2021', ' despite similar infection levels', ' hospitalisations were more than double the current numbers', ' The daily number of COVID-related deaths was around 10 times higher', ' Health Secretary Sajid Javid told Sky News: What we are seeing is with rising case numbers - and yesterday I said we could see a doubling of case numbers by the time we get to 19 July - we are not seeing a corresponding increase in hospitalisations and death numbers', ' Even if a much smaller percentage of infections result in severe illness or death', ' with high enough case numbers this could still put the NHS under considerable pressure in some areas of the country', 'In England', ' case rates are currently highest in the North East and North West', ' where some areas have more than 600 daily cases per 100', '000 people', '']\n",
      " \n",
      "Article-C\n",
      "['he House of Commons leader treated fellow MPs to his interpretation of the New Order classic from Italia 90 as football fever swept the nation', \" There was laughter in the chamber as Mr Rees-Mogg drawled his way through the lyrics - including assuring Speaker Lindsay Hoyle that we ain't no hooligans\", ' However', ' the Old Etonian did then balance his pop culture references by quoting Restoration literary critic John Dryden and Roman poet Virgil', ' Mr Rees-Mogg said: Everyone', ' I think', ' is rejoicing at the football success and I think the line to take is from Mr Barnes', \"You've got to hold and give but do it at the right time\", ' (SKY NEWS) You can be slow or fast but you must get to the line', ' Can I reassure you', ' Mr Speaker', \" that we ain't no hooligans\", \" this ain't a football song\", ' Three Lions on my chest', \" I know we can't go wrong\", ' Or as another John put it', ' John Dryden', ' for they can conquer who believe they can', ' I think for the record that Dryden was translating Virgil in those comments', ' He added: It is indeed the excellent leadership of Mr Southgate which led to such a good triumph yesterday against Denmark', ' and lets hope for the same on Sunday', ' Shadow Commons leader Thangam Debbonaire swiped that Boris Johnson should spend some time studying at the Gareth Southgate school of leadership', 'Ms Debbonaire added: In contrast to the Prime Minister', ' Gareth Southgate and the England team value hard work', ' discipline', ' and preparation', ' The British people seem to appreciate those qualities', ' so for the sake of our country and the wonderful people who live and work here', ' I hope the Prime Minister can spend some time over the next few days studying at the Gareth Southgate school of leadership', \" Other MPs made attempts to reference Football's Coming Home – the David Baddiel\", \" Frank Skinner and Lightning Seeds classic which has become ubiquitous during England's bid for glory\", '  Earlier', ' Labour deputy leader Angela Rayner – when questioning Cabinet Office minister Michael Gove – said: Indeed football is coming home', ' but I also think the chickens are coming home to roost for this Government', '']\n"
     ]
    }
   ],
   "source": [
    "#Write a pattern to match sentences endings\n",
    "sentence_endings = r\"[.?!,]\"\n",
    "#split aricles on sentence endings & print results\n",
    "print('Article-A')\n",
    "print(re.split(sentence_endings, News_articleA))\n",
    "print(' ')\n",
    "print('Article-B')\n",
    "print(re.split(sentence_endings, News_articleB))\n",
    "print(' ')\n",
    "print('Article-C')\n",
    "print(re.split(sentence_endings, News_articleC))\n"
   ]
  },
  {
   "cell_type": "markdown",
   "metadata": {},
   "source": [
    "###### re.findall - find all patterns in a string"
   ]
  },
  {
   "cell_type": "code",
   "execution_count": 21,
   "metadata": {},
   "outputs": [
    {
     "name": "stdout",
     "output_type": "stream",
     "text": [
      "Article-A\n",
      "['HONG', 'KONG', 'Hong', 'Kong', 'The', 'Wall', 'Street', 'Journal', 'Monday', 'Facebook', 'Inc', 'Twitter', 'Inc', 'Alphabet', 'Inc', 'Google', 'June', 'Hong', 'Kong', 'Doxing']\n",
      "\n",
      "Article-B\n",
      "['The', 'The', 'COVID', 'Health', 'Secretary', 'Sajid', 'Javid', 'Sky', 'News', 'What', 'July', 'Even', 'NHS', 'In', 'England', 'North', 'East', 'North', 'West']\n",
      "\n",
      "Article-C\n",
      "['House', 'Commons', 'MPs', 'New', 'Order', 'Italia', 'There', 'Mr', 'Rees', 'Mogg', 'Speaker', 'Lindsay', 'Hoyle', 'However', 'Old', 'Etonian', 'Restoration', 'John', 'Dryden', 'Roman', 'Virgil', 'Mr', 'Rees', 'Mogg', 'Everyone', 'Mr', 'Barnes', 'You', 'SKY', 'NEWS', 'You', 'Can', 'Mr', 'Speaker', 'Three', 'Lions', 'Or', 'John', 'John', 'Dryden', 'Dryden', 'Virgil', 'He', 'It', 'Mr', 'Southgate', 'Denmark', 'Sunday', 'Shadow', 'Commons', 'Thangam', 'Debbonaire', 'Boris', 'Johnson', 'Gareth', 'Southgate', 'Ms', 'Debbonaire', 'In', 'Prime', 'Minister', 'Gareth', 'Southgate', 'England', 'The', 'British', 'Prime', 'Minister', 'Gareth', 'Southgate', 'Other', 'MPs', 'Football', 'Coming', 'Home', 'David', 'Baddiel', 'Frank', 'Skinner', 'Lightning', 'Seeds', 'England', 'Earlier', 'Labour', 'Angela', 'Rayner', 'Cabinet', 'Office', 'Michael', 'Gove', 'Indeed', 'Government']\n"
     ]
    }
   ],
   "source": [
    "#Find all capilized words in articles and print results\n",
    "capitilized_words = r\"[A-Z]\\w+\"\n",
    "print('Article-A')\n",
    "print(re.findall(capitilized_words, News_articleA))\n",
    "print('')\n",
    "print('Article-B')\n",
    "print(re.findall(capitilized_words, News_articleB))\n",
    "print('')\n",
    "print('Article-C')\n",
    "print(re.findall(capitilized_words, News_articleC))"
   ]
  },
  {
   "cell_type": "code",
   "execution_count": 44,
   "metadata": {},
   "outputs": [
    {
     "name": "stdout",
     "output_type": "stream",
     "text": [
      "Hash-Tag Search\n",
      "[]\n"
     ]
    }
   ],
   "source": [
    "#Defining a regex pattern checking for hashtags\n",
    "patterns_htags = r\"#\\w+\"\n",
    "hash_tags = regexp_tokenize(News_articleC,patterns_htags)\n",
    "print('Hash-Tag Search')\n",
    "print(hash_tags)"
   ]
  },
  {
   "cell_type": "markdown",
   "metadata": {},
   "source": [
    "###### Split articles on spaces and print results"
   ]
  },
  {
   "cell_type": "code",
   "execution_count": 32,
   "metadata": {},
   "outputs": [
    {
     "name": "stdout",
     "output_type": "stream",
     "text": [
      "Article_A\n",
      "[' ', ' ', ' ', ' ', ' ', ' ', ' ', ' ', ' ', ' ', ' ', ' ', ' ', ' ', ' ', ' ', ' ', ' ', ' ', ' ', ' ', ' ', ' ', ' ', ' ', ' ', ' ', ' ', ' ', ' ', ' ', ' ', ' ', ' ', ' ', ' ', ' ', ' ', ' ', ' ', ' ', ' ', ' ', ' ', ' ', ' ', ' ', ' ', ' ', ' ', ' ', ' ', ' ', ' ', ' ', ' ', ' ', ' ', ' ', ' ', ' ', ' ', ' ', ' ', ' ', ' ', ' ', ' ', ' ', ' ', ' ', ' ', ' ', ' ', ' ', ' ', ' ', ' ', ' ', ' ', ' ', ' ', ' ', ' ', ' ', ' ', ' ', ' ', ' ', ' ', ' ', ' ', ' ', ' ', ' ', ' ', ' ', ' ', ' ', ' ', ' ', ' ', ' ', ' ', ' ', ' ', ' ', ' ', ' ', ' ', ' ', ' ', ' ', ' ', ' ', '']\n",
      "<class 'list'>\n",
      "116\n"
     ]
    }
   ],
   "source": [
    "#Split articles on spaces and print results\n",
    "spaces = r\"\\S+\" \n",
    "print('Article_A')\n",
    "space_count = re.split(spaces,News_articleA)\n",
    "print(space_count)\n",
    "print(type(space_count))\n",
    "print(len(space_count))"
   ]
  },
  {
   "cell_type": "markdown",
   "metadata": {},
   "source": [
    "###### Find all digits in articles and print results"
   ]
  },
  {
   "cell_type": "code",
   "execution_count": 33,
   "metadata": {},
   "outputs": [
    {
     "name": "stdout",
     "output_type": "stream",
     "text": [
      "Article-A\n",
      "['25', '2019']\n",
      "Article-B\n",
      "['2021', '10', '19', '600', '100', '000']\n",
      "Article-C\n",
      "['90']\n"
     ]
    }
   ],
   "source": [
    "#Find all digits in articles and print results\n",
    "digits = r\"\\d+\"\n",
    "print('Article-A')\n",
    "print(re.findall(digits,News_articleA))\n",
    "print('Article-B')\n",
    "print(re.findall(digits,News_articleB))\n",
    "print('Article-C')\n",
    "print(re.findall(digits,News_articleC))"
   ]
  },
  {
   "cell_type": "markdown",
   "metadata": {},
   "source": []
  },
  {
   "cell_type": "markdown",
   "metadata": {},
   "source": [
    "We can see the power of the regex patterns and utilizing them to find specific information from text. Particularly interesting is the capitlization method which as we can see from above gives most of the information we would require to grasp an understanding of the topic of the articles.\n",
    "\n",
    "NOTE\n",
    "\n",
    "REGEX is a useful tool in data preparation (cleaning data)."
   ]
  },
  {
   "cell_type": "markdown",
   "metadata": {},
   "source": [
    "# Tokenization\n",
    "word tokenize : breaks down a string into tokens\n",
    "\n",
    "sent tokenize : tokenize a document into sentences\n",
    "\n",
    "regexp_tokenize : tokenize a string or document based on a regular expression pattern\n",
    "\n",
    "###### Note\n",
    "re.match : will try to match a string from the beginning until it cannot match any longer whereas ...\n",
    "\n",
    "re.search will go through the entire string to look for match options"
   ]
  },
  {
   "cell_type": "code",
   "execution_count": 104,
   "metadata": {},
   "outputs": [
    {
     "name": "stdout",
     "output_type": "stream",
     "text": [
      "Word-Tokenize\n",
      "\n",
      "['HONG', 'KONG—Hong', 'Kong', '’', 's', 'chief', 'executive', 'tried', 'to', 'ease', 'U.S.', 'tech', 'titans', '’', 'concerns', 'about', 'proposed', 'changes', 'to', 'data-protection', 'laws', ',', 'saying', 'new', 'rules', 'are', 'needed', 'to', 'stop', 'the', 'malicious', 'posting', 'of', 'people', '’', 's', 'personal', 'information', 'online', 'but', 'that', 'the', 'government', 'would', 'listen', 'to', 'the', 'companies', '.', 'The', 'Wall', 'Street', 'Journal', 'on', 'Monday', 'reported', 'that', 'an', 'industry', 'group', 'representing', 'Facebook', 'Inc.', ',', 'Twitter', 'Inc.', ',', 'Alphabet', 'Inc.', '’', 's', 'Google', 'and', 'others', 'sent', 'a', 'private', 'letter', 'June', '25', 'to', 'Hong', 'Kong', '’', 's', 'privacy', 'commissioner', 'for', 'personal', 'data', 'outlining', 'members', '’', 'worries', 'about', 'the', 'planned', 'rules', 'to', 'combat', 'doxing', '.', 'Doxing', 'is', 'a', 'term', 'applied', 'to', 'the', 'sharing', 'of', 'individuals', '’', 'information', 'online', 'so', 'they', 'can', 'be', 'harassed', ',', 'a', 'practice', 'that', 'was', 'common', 'during', '2019', 'protests', 'in', 'the', 'city', '.']\n",
      "133\n",
      "\n",
      "Unique-Tokens-SET(data-type)\n",
      "\n",
      "{'HONG', 'chief', 'protests', 'city', 'Inc.', 'representing', 'The', 'and', 'be', 'Alphabet', 'Facebook', 'June', 'planned', 'would', 'saying', '’', 'Hong', 'malicious', 'KONG—Hong', 'others', 'term', 'letter', '2019', 'changes', 'private', 'tried', 'sent', 'commissioner', 'industry', 'during', 'individuals', 'can', 'Doxing', 'listen', 'Google', 'members', 'Wall', 'group', 'Journal', 'needed', 'titans', 'in', 'tech', 'executive', 's', 'outlining', 'U.S.', 'that', 'harassed', ',', 'online', 'common', 'personal', 'worries', 'government', 'new', 'practice', 'Street', 'data', 'Kong', 'information', 'applied', 'people', 'reported', 'they', 'doxing', 'posting', 'but', 'proposed', 'companies', 'a', 'data-protection', 'an', 'is', 'ease', 'laws', 'on', 'are', 'concerns', 'Monday', 'Twitter', 'privacy', 'about', 'for', 'sharing', 'stop', 'so', 'to', 'the', '.', '25', 'was', 'of', 'rules', 'combat'}\n",
      "95\n",
      "\n",
      "Sent-Tokenize\n",
      "[' HONG KONG—Hong Kong’s chief executive tried to ease U.S. tech titans’ concerns about proposed changes to data-protection laws, saying new rules are needed to stop the malicious posting of people’s personal information online but that the government would listen to the companies.', 'The Wall Street Journal on Monday reported that an industry group representing Facebook Inc., Twitter Inc., Alphabet Inc.’s Google and others sent a private letter June 25 to Hong Kong’s privacy commissioner for personal data outlining members’ worries about the planned rules to combat doxing.', 'Doxing is a term applied to the sharing of individuals’ information online so they can be harassed, a practice that was common during 2019 protests in the city.']\n",
      "\n",
      "re.match\n",
      "None\n"
     ]
    }
   ],
   "source": [
    "#word tokenize \n",
    "print('Word-Tokenize')\n",
    "print('')\n",
    "word_tokens = word_tokenize(News_articleA)\n",
    "print(word_tokens)\n",
    "print(len(word_tokens))\n",
    "\n",
    "#word tokenize sets\n",
    "print('')\n",
    "print('Unique-Tokens-SET(data-type)')\n",
    "print('')\n",
    "unique_tokens = set(word_tokenize(News_articleA))\n",
    "print(unique_tokens)\n",
    "print(len(unique_tokens))\n",
    "\n",
    "#sent tokenize - tokenize a document into sentences\n",
    "print('')\n",
    "print('Sent-Tokenize')\n",
    "print(sent_tokenize(News_articleA))\n",
    "\n",
    "#re match - will try to match a string from the beginning until it cannot match any longer\n",
    "print('')\n",
    "print('re.match')\n",
    "print(re.match('could',News_articleB))"
   ]
  },
  {
   "cell_type": "markdown",
   "metadata": {},
   "source": [
    "# Bag of Words\n",
    "Basic method for finding topics in a text\n",
    "\n",
    "We need to create token using tokenization & then count up all tokens\n",
    "\n",
    "The more frequent the word the more importance it may hold enabling to categorize the siginicance of words depending on domain"
   ]
  },
  {
   "cell_type": "code",
   "execution_count": 54,
   "metadata": {},
   "outputs": [
    {
     "name": "stdout",
     "output_type": "stream",
     "text": [
      "<class 'collections.Counter'>\n",
      "Counter({'’': 7, 'to': 7, 'the': 6, 's': 4, ',': 4, 'that': 3, '.': 3, 'Inc.': 3, 'a': 3, 'Kong': 2, 'about': 2, 'rules': 2, 'of': 2, 'personal': 2, 'information': 2, 'online': 2, 'HONG': 1, 'KONG—Hong': 1, 'chief': 1, 'executive': 1, 'tried': 1, 'ease': 1, 'U.S.': 1, 'tech': 1, 'titans': 1, 'concerns': 1, 'proposed': 1, 'changes': 1, 'data-protection': 1, 'laws': 1, 'saying': 1, 'new': 1, 'are': 1, 'needed': 1, 'stop': 1, 'malicious': 1, 'posting': 1, 'people': 1, 'but': 1, 'government': 1, 'would': 1, 'listen': 1, 'companies': 1, 'The': 1, 'Wall': 1, 'Street': 1, 'Journal': 1, 'on': 1, 'Monday': 1, 'reported': 1, 'an': 1, 'industry': 1, 'group': 1, 'representing': 1, 'Facebook': 1, 'Twitter': 1, 'Alphabet': 1, 'Google': 1, 'and': 1, 'others': 1, 'sent': 1, 'private': 1, 'letter': 1, 'June': 1, '25': 1, 'Hong': 1, 'privacy': 1, 'commissioner': 1, 'for': 1, 'data': 1, 'outlining': 1, 'members': 1, 'worries': 1, 'planned': 1, 'combat': 1, 'doxing': 1, 'Doxing': 1, 'is': 1, 'term': 1, 'applied': 1, 'sharing': 1, 'individuals': 1, 'so': 1, 'they': 1, 'can': 1, 'be': 1, 'harassed': 1, 'practice': 1, 'was': 1, 'common': 1, 'during': 1, '2019': 1, 'protests': 1, 'in': 1, 'city': 1})\n"
     ]
    }
   ],
   "source": [
    "#Initialize counter\n",
    "word_counter = Counter(word_tokenize(News_articleA))\n",
    "print(type(word_counter))\n",
    "print(word_counter)"
   ]
  },
  {
   "cell_type": "code",
   "execution_count": 94,
   "metadata": {},
   "outputs": [
    {
     "name": "stdout",
     "output_type": "stream",
     "text": [
      "[('the', 8), ('of', 5), ('in', 5), (',', 5), ('numbers', 5)]\n"
     ]
    }
   ],
   "source": [
    "#tokenize one of the articles\n",
    "tokens = word_tokenize(News_articleB)\n",
    "#Convert the tokens into lowercase (list comprehension)\n",
    "lower_tokens = [t.lower() for t in tokens]\n",
    "#Create a counter with lowercase tokens\n",
    "simple = Counter(lower_tokens)\n",
    "#print the 15 most common tokens\n",
    "simple_viz = simple.most_common(5)\n",
    "print(simple_viz)\n"
   ]
  },
  {
   "cell_type": "code",
   "execution_count": 102,
   "metadata": {},
   "outputs": [
    {
     "name": "stdout",
     "output_type": "stream",
     "text": [
      "[4, 9, 4, 1, 1, 5, 9, 5, 2, 4, 4, 4, 6, 1, 8, 5, 8, 7, 2, 15, 4, 1, 6, 3, 5, 3, 6, 2, 4, 3, 9, 7, 2, 6, 1, 1, 8, 11, 6, 3, 4, 3, 10, 5, 6, 2, 3, 9, 1, 3, 4, 6, 7, 2, 6, 8, 4, 2, 8, 5, 12, 8, 4, 1, 7, 4, 1, 8, 4, 1, 1, 6, 3, 6, 4, 1, 7, 6, 4, 2, 2, 4, 4, 1, 1, 7, 12, 3, 8, 4, 9, 7, 1, 7, 5, 3, 7, 5, 2, 6, 6, 1, 6, 2, 1, 4, 7, 2, 3, 7, 2, 11, 1, 11, 6, 2, 4, 3, 2, 8, 1, 1, 8, 4, 3, 6, 6, 4, 8, 2, 3, 4, 1]\n"
     ]
    },
    {
     "data": {
      "text/plain": [
       "[<matplotlib.lines.Line2D at 0x22fc84a5910>]"
      ]
     },
     "execution_count": 102,
     "metadata": {},
     "output_type": "execute_result"
    },
    {
     "data": {
      "image/png": "[encoded data removed]",
      "text/plain": [
       "<Figure size 432x288 with 1 Axes>"
      ]
     },
     "metadata": {
      "needs_background": "light"
     },
     "output_type": "display_data"
    }
   ],
   "source": [
    "#Short program that enables us to plot and visualy analyze the lenght of each word in the text\n",
    "words = word_tokenize(News_articleA)\n",
    "words_length = [len(w) for w in words]\n",
    "print(words_length)\n",
    "plt.plot(words_length) #line plot"
   ]
  },
  {
   "cell_type": "markdown",
   "metadata": {},
   "source": [
    "# Text Pre - Processing Techniques\n",
    "- Tokenization to create bag of words\n",
    "- Lemmatization (stemming) - shortening words to their root\n",
    "- Removing stop words, puntuations or unwanted tokens"
   ]
  },
  {
   "cell_type": "code",
   "execution_count": 109,
   "metadata": {},
   "outputs": [
    {
     "data": {
      "text/plain": [
       "[('football', 5),\n",
       " ('mr', 5),\n",
       " ('think', 4),\n",
       " ('southgate', 4),\n",
       " ('leader', 3),\n",
       " ('ai', 3),\n",
       " ('john', 3),\n",
       " ('dryden', 3),\n",
       " ('time', 3),\n",
       " ('gareth', 3),\n",
       " ('minister', 3),\n",
       " ('coming', 3),\n",
       " ('home', 3),\n",
       " ('common', 2),\n",
       " ('mp', 2)]"
      ]
     },
     "execution_count": 109,
     "metadata": {},
     "output_type": "execute_result"
    }
   ],
   "source": [
    "from nltk.corpus import stopwords\n",
    "from nltk.stem import WordNetLemmatizer\n",
    "\n",
    "#lowercase and alhaphetic charachters\n",
    "tokens1 = [w for w in word_tokenize(News_articleC.lower())\n",
    "         if w.isalpha()]\n",
    "#no stops words\n",
    "no_stops = [t for t in tokens1\n",
    "           if t not in stopwords.words('english')]\n",
    "#Instantiate the WordNetLemmatizer\n",
    "wordnet_lemm = WordNetLemmatizer()\n",
    "#lemmatize all tokens into a new list\n",
    "lemmatized_tokens = [wordnet_lemm.lemmatize(t)\n",
    "                    for t in no_stops]\n",
    "\n",
    "#initialize counter\n",
    "Counter(lemmatized_tokens).most_common(15)"
   ]
  },
  {
   "cell_type": "code",
   "execution_count": null,
   "metadata": {},
   "outputs": [],
   "source": []
  }
 ],
 "metadata": {
  "kernelspec": {
   "display_name": "Python 3",
   "language": "python",
   "name": "python3"
  },
  "language_info": {
   "codemirror_mode": {
    "name": "ipython",
    "version": 3
   },
   "file_extension": ".py",
   "mimetype": "text/x-python",
   "name": "python",
   "nbconvert_exporter": "python",
   "pygments_lexer": "ipython3",
   "version": "3.8.3"
  }
 },
 "nbformat": 4,
 "nbformat_minor": 4
}
